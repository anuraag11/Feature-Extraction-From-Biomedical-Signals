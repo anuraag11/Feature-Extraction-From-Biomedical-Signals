{
  "nbformat": 4,
  "nbformat_minor": 0,
  "metadata": {
    "colab": {
      "name": "PCA.ipynb",
      "provenance": []
    },
    "kernelspec": {
      "name": "python3",
      "display_name": "Python 3"
    },
    "language_info": {
      "name": "python"
    }
  },
  "cells": [
    {
      "cell_type": "code",
      "metadata": {
        "colab": {
          "base_uri": "https://localhost:8080/"
        },
        "id": "_EQgqcPfun5j",
        "outputId": "9da9bf7e-e7d8-47a8-e0e7-f055f7aae069"
      },
      "source": [
        "import pandas as pd\n",
        "\n",
        "df = pd.read_excel ('original_features.xlsx', sheet_name='Sheet3')\n",
        "print (df)"
      ],
      "execution_count": null,
      "outputs": [
        {
          "output_type": "stream",
          "name": "stdout",
          "text": [
            "   Unnamed: 0  Unnamed: 1  Unnamed: 2  ...  Unnamed: 273  Unnamed: 274  Unnamed: 275\n",
            "0    0.118894    0.079021   -0.130410  ...     -0.187088     -0.163629     -0.206714\n",
            "1    0.822550    0.517312    0.083416  ...     -0.042836     -0.118015     -0.167318\n",
            "2   -0.087764   -0.113088   -0.050147  ...     -0.216868     -0.232995     -0.211129\n",
            "3   -0.080889   -0.091089   -0.068911  ...     -0.190550     -0.247276     -0.258762\n",
            "4    0.459904    0.368067   -0.063226  ...     -0.203187     -0.221101     -0.217035\n",
            "5    0.877410    0.102235   -0.016369  ...     -0.181803     -0.099872     -0.114758\n",
            "6    0.784965    0.289044    0.296714  ...     -0.071253      0.082901     -0.041702\n",
            "7    0.974956   -0.096552   -0.126380  ...     -0.176254     -0.154892     -0.147337\n",
            "8    0.616135   -0.010572   -0.120346  ...     -0.200673     -0.164682     -0.190301\n",
            "\n",
            "[9 rows x 276 columns]\n"
          ]
        }
      ]
    },
    {
      "cell_type": "code",
      "metadata": {
        "id": "d4q3KxMvv3mj"
      },
      "source": [
        "from sklearn.decomposition import PCA\n",
        "pca = PCA(n_components=9)\n",
        "principalComponents = pca.fit_transform(df.to_numpy())\n",
        "principalDf = pd.DataFrame(data = principalComponents\n",
        "             , columns = ['PC1', 'PC2','PC3', 'PC4','PC5', 'PC6','PC7', 'PC8','PC9'])"
      ],
      "execution_count": null,
      "outputs": []
    },
    {
      "cell_type": "code",
      "metadata": {
        "id": "Xv6hF4REwaxp"
      },
      "source": [
        "principalDf.to_excel(\"original_features.xlsx\",sheet_name=\"Sheet4\")"
      ],
      "execution_count": null,
      "outputs": []
    }
  ]
}